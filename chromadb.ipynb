{
 "cells": [
  {
   "cell_type": "code",
   "execution_count": 15,
   "metadata": {},
   "outputs": [],
   "source": [
    "import chromadb\n",
    "import ollama\n",
    "\n",
    "def add_documents_to_chromadb(documents, db_path):\n",
    "    client = chromadb.PersistentClient(path=db_path)\n",
    "\n",
    "    try:\n",
    "        collection = client.get_collection(name=\"docs\")\n",
    "    except:\n",
    "        collection = client.create_collection(name=\"docs\")\n",
    "\n",
    "    for i, doc in enumerate(documents):\n",
    "        content = doc[\"content\"]\n",
    "        response = ollama.embeddings(model=\"mxbai-embed-large\", prompt=content)\n",
    "        embedding = response[\"embedding\"]\n",
    "\n",
    "        collection.add(\n",
    "            ids=[str(i)],\n",
    "            embeddings=[embedding],\n",
    "            documents=[content],\n",
    "            metadatas=[{\"dept\": doc[\"dept\"]}]\n",
    "        )\n",
    "\n",
    "def search_department_in_chromadb(db_path, department, query, n_results):\n",
    "    client = chromadb.PersistentClient(path=db_path)\n",
    "    collection = client.get_collection(\"docs\")\n",
    "    \n",
    "    response = ollama.embeddings(model=\"mxbai-embed-large\", prompt=query)\n",
    "    query_embedding = response[\"embedding\"]\n",
    "    \n",
    "    results = collection.query(\n",
    "        query_embeddings=[query_embedding],\n",
    "        n_results=n_results,\n",
    "        where={\"dept\": department}\n",
    "    )\n",
    "    \n",
    "    return results\n"
   ]
  },
  {
   "cell_type": "code",
   "execution_count": 16,
   "metadata": {},
   "outputs": [],
   "source": [
    "documents = [\n",
    "    {\"dept\": \"HR\", \"content\": \"HR is responsible for recruiting new employees.\"},\n",
    "    {\"dept\": \"HR\", \"content\": \"HR handles employee benefits and payroll.\"},\n",
    "    {\"dept\": \"IT\", \"content\": \"IT manages the company’s internal network.\"},\n",
    "    {\"dept\": \"IT\", \"content\": \"IT provides technical support to employees.\"},\n",
    "    {\"dept\": \"Finance\", \"content\": \"Finance manages the company’s budget.\"},\n",
    "    {\"dept\": \"Finance\", \"content\": \"Finance oversees all financial transactions.\"},\n",
    "    {\"dept\": \"Marketing\", \"content\": \"Marketing handles the promotion of products.\"},\n",
    "    {\"dept\": \"Marketing\", \"content\": \"Marketing analyzes market trends and competitors.\"}\n",
    "]\n",
    "\n",
    "db_path = \"docs/\"\n"
   ]
  },
  {
   "cell_type": "code",
   "execution_count": 17,
   "metadata": {},
   "outputs": [
    {
     "name": "stderr",
     "output_type": "stream",
     "text": [
      "Insert of existing embedding ID: 0\n",
      "Add of existing embedding ID: 0\n",
      "Insert of existing embedding ID: 1\n",
      "Add of existing embedding ID: 1\n",
      "Insert of existing embedding ID: 2\n",
      "Add of existing embedding ID: 2\n",
      "Insert of existing embedding ID: 3\n",
      "Add of existing embedding ID: 3\n",
      "Insert of existing embedding ID: 4\n",
      "Add of existing embedding ID: 4\n",
      "Insert of existing embedding ID: 5\n",
      "Add of existing embedding ID: 5\n",
      "Insert of existing embedding ID: 6\n",
      "Add of existing embedding ID: 6\n",
      "Insert of existing embedding ID: 7\n",
      "Add of existing embedding ID: 7\n"
     ]
    }
   ],
   "source": [
    "add_documents_to_chromadb(documents, db_path)\n"
   ]
  },
  {
   "cell_type": "code",
   "execution_count": 22,
   "metadata": {},
   "outputs": [
    {
     "data": {
      "text/html": [
       "<pre style=\"white-space:pre;overflow-x:auto;line-height:normal;font-family:Menlo,'DejaVu Sans Mono',consolas,'Courier New',monospace\"><span style=\"font-weight: bold\">{</span>\n",
       "    <span style=\"color: #008000; text-decoration-color: #008000\">'ids'</span>: <span style=\"font-weight: bold\">[[</span><span style=\"color: #008000; text-decoration-color: #008000\">'6'</span>, <span style=\"color: #008000; text-decoration-color: #008000\">'7'</span><span style=\"font-weight: bold\">]]</span>,\n",
       "    <span style=\"color: #008000; text-decoration-color: #008000\">'distances'</span>: <span style=\"font-weight: bold\">[[</span><span style=\"color: #008080; text-decoration-color: #008080; font-weight: bold\">292.5693866576552</span>, <span style=\"color: #008080; text-decoration-color: #008080; font-weight: bold\">342.20843836795535</span><span style=\"font-weight: bold\">]]</span>,\n",
       "    <span style=\"color: #008000; text-decoration-color: #008000\">'metadatas'</span>: <span style=\"font-weight: bold\">[[{</span><span style=\"color: #008000; text-decoration-color: #008000\">'dept'</span>: <span style=\"color: #008000; text-decoration-color: #008000\">'Marketing'</span><span style=\"font-weight: bold\">}</span>, <span style=\"font-weight: bold\">{</span><span style=\"color: #008000; text-decoration-color: #008000\">'dept'</span>: <span style=\"color: #008000; text-decoration-color: #008000\">'Marketing'</span><span style=\"font-weight: bold\">}]]</span>,\n",
       "    <span style=\"color: #008000; text-decoration-color: #008000\">'embeddings'</span>: <span style=\"color: #800080; text-decoration-color: #800080; font-style: italic\">None</span>,\n",
       "    <span style=\"color: #008000; text-decoration-color: #008000\">'documents'</span>: <span style=\"font-weight: bold\">[</span>\n",
       "        <span style=\"font-weight: bold\">[</span><span style=\"color: #008000; text-decoration-color: #008000\">'Marketing handles the promotion of products.'</span>, <span style=\"color: #008000; text-decoration-color: #008000\">'Marketing analyzes market trends and competitors.'</span><span style=\"font-weight: bold\">]</span>\n",
       "    <span style=\"font-weight: bold\">]</span>,\n",
       "    <span style=\"color: #008000; text-decoration-color: #008000\">'uris'</span>: <span style=\"color: #800080; text-decoration-color: #800080; font-style: italic\">None</span>,\n",
       "    <span style=\"color: #008000; text-decoration-color: #008000\">'data'</span>: <span style=\"color: #800080; text-decoration-color: #800080; font-style: italic\">None</span>,\n",
       "    <span style=\"color: #008000; text-decoration-color: #008000\">'included'</span>: <span style=\"font-weight: bold\">[</span><span style=\"color: #008000; text-decoration-color: #008000\">'metadatas'</span>, <span style=\"color: #008000; text-decoration-color: #008000\">'documents'</span>, <span style=\"color: #008000; text-decoration-color: #008000\">'distances'</span><span style=\"font-weight: bold\">]</span>\n",
       "<span style=\"font-weight: bold\">}</span>\n",
       "</pre>\n"
      ],
      "text/plain": [
       "\u001b[1m{\u001b[0m\n",
       "    \u001b[32m'ids'\u001b[0m: \u001b[1m[\u001b[0m\u001b[1m[\u001b[0m\u001b[32m'6'\u001b[0m, \u001b[32m'7'\u001b[0m\u001b[1m]\u001b[0m\u001b[1m]\u001b[0m,\n",
       "    \u001b[32m'distances'\u001b[0m: \u001b[1m[\u001b[0m\u001b[1m[\u001b[0m\u001b[1;36m292.5693866576552\u001b[0m, \u001b[1;36m342.20843836795535\u001b[0m\u001b[1m]\u001b[0m\u001b[1m]\u001b[0m,\n",
       "    \u001b[32m'metadatas'\u001b[0m: \u001b[1m[\u001b[0m\u001b[1m[\u001b[0m\u001b[1m{\u001b[0m\u001b[32m'dept'\u001b[0m: \u001b[32m'Marketing'\u001b[0m\u001b[1m}\u001b[0m, \u001b[1m{\u001b[0m\u001b[32m'dept'\u001b[0m: \u001b[32m'Marketing'\u001b[0m\u001b[1m}\u001b[0m\u001b[1m]\u001b[0m\u001b[1m]\u001b[0m,\n",
       "    \u001b[32m'embeddings'\u001b[0m: \u001b[3;35mNone\u001b[0m,\n",
       "    \u001b[32m'documents'\u001b[0m: \u001b[1m[\u001b[0m\n",
       "        \u001b[1m[\u001b[0m\u001b[32m'Marketing handles the promotion of products.'\u001b[0m, \u001b[32m'Marketing analyzes market trends and competitors.'\u001b[0m\u001b[1m]\u001b[0m\n",
       "    \u001b[1m]\u001b[0m,\n",
       "    \u001b[32m'uris'\u001b[0m: \u001b[3;35mNone\u001b[0m,\n",
       "    \u001b[32m'data'\u001b[0m: \u001b[3;35mNone\u001b[0m,\n",
       "    \u001b[32m'included'\u001b[0m: \u001b[1m[\u001b[0m\u001b[32m'metadatas'\u001b[0m, \u001b[32m'documents'\u001b[0m, \u001b[32m'distances'\u001b[0m\u001b[1m]\u001b[0m\n",
       "\u001b[1m}\u001b[0m\n"
      ]
     },
     "metadata": {},
     "output_type": "display_data"
    }
   ],
   "source": [
    "department = \"Marketing\"\n",
    "query = \"Products\"\n",
    "n_results = 3\n",
    "search_results = search_department_in_chromadb(db_path, department, query,n_results)\n",
    "from rich import print\n",
    "print(search_results)\n"
   ]
  },
  {
   "cell_type": "code",
   "execution_count": 19,
   "metadata": {},
   "outputs": [
    {
     "data": {
      "text/plain": [
       "{'ids': [['2', '3']],\n",
       " 'distances': [[181.65177816464146, 267.6069437780134]],\n",
       " 'metadatas': [[{'dept': 'IT'}, {'dept': 'IT'}]],\n",
       " 'embeddings': None,\n",
       " 'documents': [['IT manages the company’s internal network.',\n",
       "   'IT provides technical support to employees.']],\n",
       " 'uris': None,\n",
       " 'data': None,\n",
       " 'included': ['metadatas', 'documents', 'distances']}"
      ]
     },
     "execution_count": 19,
     "metadata": {},
     "output_type": "execute_result"
    }
   ],
   "source": [
    "search_results"
   ]
  },
  {
   "cell_type": "code",
   "execution_count": null,
   "metadata": {},
   "outputs": [],
   "source": []
  }
 ],
 "metadata": {
  "kernelspec": {
   "display_name": "base",
   "language": "python",
   "name": "python3"
  },
  "language_info": {
   "codemirror_mode": {
    "name": "ipython",
    "version": 3
   },
   "file_extension": ".py",
   "mimetype": "text/x-python",
   "name": "python",
   "nbconvert_exporter": "python",
   "pygments_lexer": "ipython3",
   "version": "3.11.7"
  }
 },
 "nbformat": 4,
 "nbformat_minor": 2
}
